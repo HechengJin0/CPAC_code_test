{
  "cells": [
    {
      "cell_type": "markdown",
      "metadata": {
        "id": "kqWKGvBcEdTD"
      },
      "source": [
        "# Test tutorial\n",
        "\n",
        "\n",
        "\n"
      ]
    },
    {
      "cell_type": "markdown",
      "metadata": {
        "id": "7n4R8AZ7GEnW"
      },
      "source": [
        "Test C-PAC existing function [create_3dskullstrip_arg_string](https://github.com/FCP-INDI/C-PAC/blob/master/CPAC/anat_preproc/utils.py#L130-L284)"
      ]
    },
    {
      "cell_type": "code",
      "metadata": {
        "id": "tXVS7B5cBYFg"
      },
      "source": [
        "def create_3dskullstrip_arg_string(shrink_fac, var_shrink_fac,\n",
        "                                   shrink_fac_bot_lim, avoid_vent, niter,\n",
        "                                   pushout, touchup, fill_hole, avoid_eyes,\n",
        "                                   use_edge, exp_frac, smooth_final,\n",
        "                                   push_to_edge, use_skull, perc_int,\n",
        "                                   max_inter_iter, blur_fwhm, fac, monkey, mask_vol):\n",
        "    \"\"\"\n",
        "    Method to return option string for 3dSkullStrip\n",
        "    \n",
        "    Parameters\n",
        "    ----------\n",
        "    shrink_fac : float\n",
        "        Parameter controlling the brain vs non-brain intensity threshold (tb)\n",
        "\n",
        "    var_shrink_fac : boolean\n",
        "        Vary the shrink factor with the number of iterations\n",
        "\n",
        "    shrink_fac_bot_lim : float\n",
        "        Do not allow the varying SF to go below SFBL\n",
        "\n",
        "    avoid_vent : boolean\n",
        "        Avoid ventricles\n",
        "\n",
        "    niter : float\n",
        "        Number of iterations\n",
        "\n",
        "    pushout : boolean\n",
        "        Consider values above each node in addition to values below the node when deciding on expansion\n",
        "\n",
        "    touchup : boolean\n",
        "        Perform touchup operations at end to include areas not covered by surface expansion\n",
        "\n",
        "    fill_hole : float\n",
        "         Fill small holes that can result from small surface intersections caused by the touchup operation\n",
        "\n",
        "    avoid_eyes : boolean\n",
        "        Avoid eyes\n",
        "\n",
        "    use_edge : boolean\n",
        "        Use edge detection to reduce leakage into meninges and eyes\n",
        "\n",
        "    exp_frac : float\n",
        "        Speed of expansion\n",
        "\n",
        "    smooth_final : float\n",
        "        Perform final surface smoothing after all iterations\n",
        "\n",
        "    push_to_edge : boolean\n",
        "        Perform aggressive push to edge at the end\n",
        "\n",
        "    use_skull : boolean\n",
        "        Use outer skull to limit expansion of surface into the skull due to very strong shading artifacts\n",
        "\n",
        "    perc_int : float\n",
        "        Percentage of segments allowed to intersect surface\n",
        "\n",
        "    max_inter_iter : float\n",
        "        Number of iteration to remove intersection problems\n",
        "\n",
        "    blur_fwhm : float\n",
        "        Blur dset after spatial normalization\n",
        "\n",
        "    fac : float\n",
        "         Multiply input dataset by FAC if range of values is too small\n",
        "\n",
        "    monkey : boolean\n",
        "        Use monkey option in SkullStripping\n",
        "    \n",
        "    mask_vol : boolean\n",
        "        Output a mask volume instead of a skull-stripped volume.\n",
        "\n",
        "    Returns\n",
        "    -------\n",
        "    opt_str : string\n",
        "        Command args\n",
        "    \n",
        "    \"\"\"\n",
        "\n",
        "    expr = ''\n",
        "    defaults = dict(\n",
        "        fill_hole=10 if touchup else 0,\n",
        "        shrink_fac=0.6,\n",
        "        shrink_fac_bot_lim=0.4 if use_edge else 0.65,\n",
        "        niter=250,\n",
        "        exp_frac=0.1,\n",
        "        smooth_final=20,\n",
        "        perc_int=0,\n",
        "        max_inter_iter=4,\n",
        "        blur_fwhm=0,\n",
        "        fac=1.0,\n",
        "        monkey=False,\n",
        "        mask_vol=False\n",
        "    )\n",
        "\n",
        "    if float(shrink_fac) != defaults['shrink_fac']:\n",
        "        expr += ' -shrink_fac {0}'.format(shrink_fac)\n",
        "\n",
        "    if not var_shrink_fac:\n",
        "        expr += ' -no_var_shrink_fac'\n",
        "    \n",
        "    if mask_vol:\n",
        "        expr += ' -mask_vol'\n",
        "\n",
        "    if monkey:\n",
        "        expr += ' -monkey'\n",
        "\n",
        "    if float(shrink_fac_bot_lim) != defaults['shrink_fac_bot_lim']:\n",
        "        expr += ' -shrink_fac_bot_lim {0}'.format(shrink_fac_bot_lim)\n",
        "\n",
        "    if not use_edge:\n",
        "        expr += ' -no_use_edge'\n",
        "\n",
        "    if not avoid_vent:\n",
        "        expr += ' -no_avoid_vent'\n",
        "\n",
        "    if int(niter) != defaults['niter']:\n",
        "        expr += ' -niter {0}'.format(niter)\n",
        "\n",
        "    if not pushout:\n",
        "        expr += ' -no_pushout'\n",
        "\n",
        "    if not touchup:\n",
        "        expr += ' -no_touchup'\n",
        "\n",
        "    if int(fill_hole) != defaults['fill_hole']:\n",
        "        expr += ' -fill_hole {0}'.format(fill_hole)\n",
        "\n",
        "    if not avoid_eyes:\n",
        "        expr += ' -no_avoid_eyes'\n",
        "\n",
        "    if float(exp_frac) != defaults['exp_frac']:\n",
        "        expr += ' -exp_frac {0}'.format(exp_frac)\n",
        "\n",
        "    if int(smooth_final) != defaults['smooth_final']:\n",
        "        expr += ' -smooth_final {0}'.format(smooth_final)\n",
        "\n",
        "    if push_to_edge:\n",
        "        expr += ' -push_to_edge'\n",
        "\n",
        "    if use_skull:\n",
        "        expr += ' -use_skull'\n",
        "\n",
        "    if float(perc_int) != defaults['perc_int']:\n",
        "        expr += ' -perc_int {0}'.format(perc_int)\n",
        "\n",
        "    if int(max_inter_iter) != defaults['max_inter_iter']:\n",
        "        expr += ' -max_inter_iter {0}'.format(max_inter_iter)\n",
        "\n",
        "    if float(blur_fwhm) != defaults['blur_fwhm']:\n",
        "        expr += ' -blur_fwhm {0}'.format(blur_fwhm)\n",
        "\n",
        "    if float(fac) != defaults['fac']:\n",
        "        expr += ' -fac {0}'.format(fac)\n",
        "\n",
        "    return expr\n"
      ],
      "execution_count": 13,
      "outputs": []
    },
    {
      "cell_type": "markdown",
      "metadata": {},
      "source": [
        "Load config file from [default_pipeline.yml](https://github.com/FCP-INDI/C-PAC/blob/master/dev/docker_data/default_pipeline.yml)\n"
      ]
    },
    {
      "cell_type": "code",
      "metadata": {
        "id": "CdSKCRq8BQ_G",
        "outputId": "61caaa38-f6cd-4e68-d755-6f7f905d4e91",
        "colab": {
          "base_uri": "https://localhost:8080/",
          "height": 321
        }
      },
      "source": [
        "import yaml\n",
        "import os\n",
        "from CPAC.utils.configuration import Configuration"
      ],
      "execution_count": 24,
      "outputs": []
    },
    {
      "cell_type": "code",
      "metadata": {
        "id": "WS8pnCIpJH8A",
        "outputId": "319b8c9c-4d20-4818-c5d9-93aed19b252d",
        "colab": {
          "base_uri": "https://localhost:8080/",
          "height": 126
        }
      },
      "source": [
        "config_file = '../DevBranch/CPAC/utils/tests/data/default_pipeline.yml'\n",
        "config_file = os.path.realpath(config_file)\n",
        "config = Configuration(yaml.safe_load(open(config_file, 'r')))"
      ],
      "execution_count": 25,
      "outputs": []
    },
    {
      "cell_type": "markdown",
      "metadata": {},
      "source": [
        "Set required arguments of create_3dskullstrip_arg_string"
      ]
    },
    {
      "cell_type": "code",
      "metadata": {
        "id": "zwxuMkfrBbr_",
        "outputId": "6d613c69-34aa-4f2f-d199-d672387fc9d4",
        "colab": {
          "base_uri": "https://localhost:8080/",
          "height": 35
        }
      },
      "source": [
        "mask_vol=config.skullstrip_mask_vol\n",
        "shrink_fac=config.skullstrip_shrink_factor\n",
        "var_shrink_fac=config.skullstrip_var_shrink_fac\n",
        "shrink_fac_bot_lim=config.skullstrip_shrink_factor_bot_lim\n",
        "avoid_vent=config.skullstrip_avoid_vent\n",
        "niter=config.skullstrip_n_iterations\n",
        "pushout=config.skullstrip_pushout\n",
        "touchup=config.skullstrip_touchup\n",
        "fill_hole=config.skullstrip_fill_hole\n",
        "avoid_eyes=config.skullstrip_avoid_eyes\n",
        "use_edge=config.skullstrip_use_edge\n",
        "exp_frac=config.skullstrip_exp_frac\n",
        "smooth_final=config.skullstrip_smooth_final\n",
        "push_to_edge=config.skullstrip_push_to_edge\n",
        "use_skull=config.skullstrip_use_skull\n",
        "perc_int=config.skullstrip_perc_int\n",
        "max_inter_iter=config.skullstrip_max_inter_iter\n",
        "blur_fwhm=config.skullstrip_blur_fwhm\n",
        "fac=config.skullstrip_fac\n",
        "monkey=config.skullstrip_monkey"
      ],
      "execution_count": 27,
      "outputs": []
    },
    {
      "cell_type": "code",
      "execution_count": 28,
      "metadata": {},
      "outputs": [
        {
          "output_type": "execute_result",
          "data": {
            "text/plain": "0.6"
          },
          "metadata": {},
          "execution_count": 28
        }
      ],
      "source": [
        "shrink_fac"
      ]
    },
    {
      "cell_type": "code",
      "execution_count": 29,
      "metadata": {},
      "outputs": [
        {
          "output_type": "execute_result",
          "data": {
            "text/plain": "True"
          },
          "metadata": {},
          "execution_count": 29
        }
      ],
      "source": [
        "var_shrink_fac"
      ]
    },
    {
      "cell_type": "code",
      "metadata": {
        "id": "TkiuxJfSHx9p"
      },
      "source": [
        "skullstrip_args = create_3dskullstrip_arg_string(shrink_fac, var_shrink_fac,\n",
        "                                   shrink_fac_bot_lim, avoid_vent, niter,\n",
        "                                   pushout, touchup, fill_hole, avoid_eyes,\n",
        "                                   use_edge, exp_frac, smooth_final,\n",
        "                                   push_to_edge, use_skull, perc_int,\n",
        "                                   max_inter_iter, blur_fwhm, fac, monkey, mask_vol)"
      ],
      "execution_count": 30,
      "outputs": []
    },
    {
      "cell_type": "code",
      "execution_count": 31,
      "metadata": {},
      "outputs": [
        {
          "output_type": "execute_result",
          "data": {
            "text/plain": "''"
          },
          "metadata": {},
          "execution_count": 31
        }
      ],
      "source": [
        "skullstrip_args"
      ]
    },
    {
      "cell_type": "code",
      "execution_count": null,
      "metadata": {},
      "outputs": [],
      "source": []
    }
  ],
  "metadata": {
    "colab": {
      "name": "Test-building tutorial.ipynb",
      "provenance": [],
      "collapsed_sections": [],
      "toc_visible": true
    },
    "kernelspec": {
      "name": "python37464bitbaseconda2e5777f0fb524e16a9cdbefdf30a1615",
      "display_name": "Python 3.7.4 64-bit ('base': conda)"
    }
  },
  "nbformat": 4,
  "nbformat_minor": 0
}